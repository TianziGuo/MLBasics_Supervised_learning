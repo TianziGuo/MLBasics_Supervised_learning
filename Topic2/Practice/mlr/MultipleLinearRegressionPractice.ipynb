{
 "cells": [
  {
   "cell_type": "markdown",
   "metadata": {},
   "source": [
    "# This practice will cover learning points in class2\n",
    "### 1 - Fit MLR model in python with sklearn and statesmodel packages\n",
    "### 2 - Model Selection\n",
    "### 3 - Weighted regression\n",
    "### 4 - Regularization, L1 and L2"
   ]
  },
  {
   "cell_type": "markdown",
   "metadata": {},
   "source": [
    "Import required Python packages."
   ]
  },
  {
   "cell_type": "code",
   "execution_count": 1,
   "metadata": {},
   "outputs": [
    {
     "name": "stdout",
     "output_type": "stream",
     "text": [
      "no display found. Using non-interactive Agg backend\n"
     ]
    }
   ],
   "source": [
    "from pathlib import Path\n",
    "import os\n",
    "import pandas as pd\n",
    "import numpy as np\n",
    "\n",
    "from sklearn.model_selection import train_test_split\n",
    "\n",
    "from sklearn.metrics import r2_score, mean_squared_error\n",
    "from sklearn.linear_model import LinearRegression, RidgeCV, LassoCV, ElasticNetCV\n",
    "\n",
    "import statsmodels.api as sm\n",
    "\n",
    "import seaborn as sns\n",
    "import matplotlib.pyplot as plt\n",
    "\n",
    "from dmba import stepwise_selection\n",
    "from dmba import AIC_score\n",
    "\n",
    "%matplotlib inline"
   ]
  },
  {
   "cell_type": "markdown",
   "metadata": {},
   "source": [
    "Define paths to data sets. If you don't keep your data in the same directory as the code, adapt the path names."
   ]
  },
  {
   "cell_type": "code",
   "execution_count": 11,
   "metadata": {},
   "outputs": [],
   "source": [
    "DATA = Path('.').resolve().parents[1] / 'Practice/mlr'\n",
    "\n",
    "HOUSE_CSV = DATA / 'house_sales.csv'"
   ]
  },
  {
   "cell_type": "code",
   "execution_count": 14,
   "metadata": {},
   "outputs": [],
   "source": [
    "# print(DATA)\n",
    "# print(HOUSE_CSV)"
   ]
  },
  {
   "cell_type": "markdown",
   "metadata": {},
   "source": [
    "#### Data read and train-test split"
   ]
  },
  {
   "cell_type": "code",
   "execution_count": 15,
   "metadata": {},
   "outputs": [
    {
     "name": "stdout",
     "output_type": "stream",
     "text": [
      "      DocumentDate  SalePrice  PropertyID   PropertyType          ym  zhvi_px  \\\n",
      "5300    2012-07-03     146000  1788700090  Single Family  2012-07-01   325300   \n",
      "12681   2006-10-11     307950  3782100070  Single Family  2006-10-01   418300   \n",
      "13033   2008-07-24     790000  3856904580  Single Family  2008-07-01   400300   \n",
      "14012   2011-03-02     484000  4100000070  Single Family  2011-03-01   321600   \n",
      "6692    2007-09-12     445000  2202500225  Single Family  2007-09-01   433500   \n",
      "\n",
      "       zhvi_idx  AdjSalePrice  NbrLivingUnits  SqFtLot  ...  Bathrooms  \\\n",
      "5300   0.747472      195325.0               1     8424  ...       1.00   \n",
      "12681  0.961167      320392.0               1     8100  ...       2.00   \n",
      "13033  0.919807      858876.0               1     4080  ...       1.75   \n",
      "14012  0.738971      654965.0               1    11804  ...       2.75   \n",
      "6692   0.996094      446745.0               1     8742  ...       1.00   \n",
      "\n",
      "       Bedrooms  BldgGrade  YrBuilt  YrRenovated  TrafficNoise  LandVal  \\\n",
      "5300          3          6     1959            0             0    48000   \n",
      "12681         3          7     1955            0             0   177000   \n",
      "13033         3          8     1991            0             2   282000   \n",
      "14012         5          8     1960            0             0   449000   \n",
      "6692          3          7     1954            0             0   268000   \n",
      "\n",
      "       ImpsVal  ZipCode  NewConstruction  \n",
      "5300    112000    98023            False  \n",
      "12681   149000    98155            False  \n",
      "13033   414000    98105            False  \n",
      "14012   147000    98005            False  \n",
      "6692    134000    98006            False  \n",
      "\n",
      "[5 rows x 22 columns]\n",
      "(18149, 22)\n",
      "      DocumentDate  SalePrice  PropertyID   PropertyType          ym  zhvi_px  \\\n",
      "14551   2012-03-20     275000  4276400075  Single Family  2012-03-01   313600   \n",
      "3567    2007-01-18     210000  1311600270  Single Family  2007-01-01   425600   \n",
      "22269   2006-06-05     865450  7965100310  Single Family  2006-06-01   404400   \n",
      "21704   2006-05-25     419965  7853302530  Single Family  2006-05-01   400600   \n",
      "17112   2011-09-20     370000  6071400710  Single Family  2011-09-01   312000   \n",
      "\n",
      "       zhvi_idx  AdjSalePrice  NbrLivingUnits  SqFtLot  ...  Bathrooms  \\\n",
      "14551  0.720588      381633.0               1    12750  ...       1.00   \n",
      "3567   0.977941      214737.0               1     9240  ...       2.50   \n",
      "22269  0.929228      931365.0               1     3360  ...       2.25   \n",
      "21704  0.920496      456238.0               1     9971  ...       2.50   \n",
      "17112  0.716912      516103.0               1    10229  ...       1.75   \n",
      "\n",
      "       Bedrooms  BldgGrade  YrBuilt  YrRenovated  TrafficNoise  LandVal  \\\n",
      "14551         2          7     1952            0             0   162000   \n",
      "3567          4          7     1966            0             0    67000   \n",
      "22269         4          8     1920            0             0   382000   \n",
      "21704         4          7     2006            0             0   179000   \n",
      "17112         3          8     1961            0             0   300000   \n",
      "\n",
      "       ImpsVal  ZipCode  NewConstruction  \n",
      "14551   194000    98166            False  \n",
      "3567    172000    98001            False  \n",
      "22269   433000    98119            False  \n",
      "21704   249000    98065             True  \n",
      "17112   258000    98006            False  \n",
      "\n",
      "[5 rows x 22 columns]\n",
      "(4538, 22)\n"
     ]
    }
   ],
   "source": [
    "houseall = pd.read_csv(HOUSE_CSV, sep='\\t')\n",
    "\n",
    "house, house_test = train_test_split(houseall, test_size=0.2)\n",
    "\n",
    "print(house.head())\n",
    "print(house.shape)\n",
    "\n",
    "print(house_test.head())\n",
    "print(house_test.shape)"
   ]
  },
  {
   "cell_type": "markdown",
   "metadata": {},
   "source": [
    "We can use the `LinearRegression` model from _scikit-learn_."
   ]
  },
  {
   "cell_type": "markdown",
   "metadata": {},
   "source": [
    "## 1 - Multiple Linear Regression (SKlearn)"
   ]
  },
  {
   "cell_type": "code",
   "execution_count": 16,
   "metadata": {},
   "outputs": [
    {
     "name": "stdout",
     "output_type": "stream",
     "text": [
      "      DocumentDate  SalePrice  PropertyID   PropertyType          ym  zhvi_px  \\\n",
      "5300    2012-07-03     146000  1788700090  Single Family  2012-07-01   325300   \n",
      "12681   2006-10-11     307950  3782100070  Single Family  2006-10-01   418300   \n",
      "13033   2008-07-24     790000  3856904580  Single Family  2008-07-01   400300   \n",
      "14012   2011-03-02     484000  4100000070  Single Family  2011-03-01   321600   \n",
      "6692    2007-09-12     445000  2202500225  Single Family  2007-09-01   433500   \n",
      "\n",
      "       zhvi_idx  AdjSalePrice  NbrLivingUnits  SqFtLot  ...  Bathrooms  \\\n",
      "5300   0.747472      195325.0               1     8424  ...       1.00   \n",
      "12681  0.961167      320392.0               1     8100  ...       2.00   \n",
      "13033  0.919807      858876.0               1     4080  ...       1.75   \n",
      "14012  0.738971      654965.0               1    11804  ...       2.75   \n",
      "6692   0.996094      446745.0               1     8742  ...       1.00   \n",
      "\n",
      "       Bedrooms  BldgGrade  YrBuilt  YrRenovated  TrafficNoise  LandVal  \\\n",
      "5300          3          6     1959            0             0    48000   \n",
      "12681         3          7     1955            0             0   177000   \n",
      "13033         3          8     1991            0             2   282000   \n",
      "14012         5          8     1960            0             0   449000   \n",
      "6692          3          7     1954            0             0   268000   \n",
      "\n",
      "       ImpsVal  ZipCode  NewConstruction  \n",
      "5300    112000    98023            False  \n",
      "12681   149000    98155            False  \n",
      "13033   414000    98105            False  \n",
      "14012   147000    98005            False  \n",
      "6692    134000    98006            False  \n",
      "\n",
      "[5 rows x 22 columns]\n",
      "Index(['DocumentDate', 'SalePrice', 'PropertyID', 'PropertyType', 'ym',\n",
      "       'zhvi_px', 'zhvi_idx', 'AdjSalePrice', 'NbrLivingUnits', 'SqFtLot',\n",
      "       'SqFtTotLiving', 'SqFtFinBasement', 'Bathrooms', 'Bedrooms',\n",
      "       'BldgGrade', 'YrBuilt', 'YrRenovated', 'TrafficNoise', 'LandVal',\n",
      "       'ImpsVal', 'ZipCode', 'NewConstruction'],\n",
      "      dtype='object')\n"
     ]
    }
   ],
   "source": [
    "print(house.head())\n",
    "print(house.columns)"
   ]
  },
  {
   "cell_type": "code",
   "execution_count": 17,
   "metadata": {},
   "outputs": [
    {
     "name": "stdout",
     "output_type": "stream",
     "text": [
      "       AdjSalePrice  SqFtTotLiving  SqFtLot  Bathrooms  Bedrooms  BldgGrade\n",
      "5300       195325.0            820     8424       1.00         3          6\n",
      "12681      320392.0            960     8100       2.00         3          7\n",
      "13033      858876.0           2050     4080       1.75         3          8\n",
      "14012      654965.0           1920    11804       2.75         5          8\n",
      "6692       446745.0           1210     8742       1.00         3          7\n"
     ]
    }
   ],
   "source": [
    "subset = ['AdjSalePrice', 'SqFtTotLiving', 'SqFtLot', 'Bathrooms', \n",
    "          'Bedrooms', 'BldgGrade']\n",
    "\n",
    "print(house[subset].head())"
   ]
  },
  {
   "cell_type": "code",
   "execution_count": 18,
   "metadata": {},
   "outputs": [
    {
     "name": "stdout",
     "output_type": "stream",
     "text": [
      "Intercept: -525518.269\n",
      "Coefficients:\n",
      " SqFtTotLiving: 227.14262463116722\n",
      " SqFtLot: -0.04774690506471718\n",
      " Bathrooms: -19024.409514713094\n",
      " Bedrooms: -45807.658413188576\n",
      " BldgGrade: 106099.73646141501\n"
     ]
    }
   ],
   "source": [
    "predictors = ['SqFtTotLiving', 'SqFtLot', 'Bathrooms', \n",
    "              'Bedrooms', 'BldgGrade']\n",
    "outcome = 'AdjSalePrice'\n",
    "\n",
    "house_lm = LinearRegression()\n",
    "house_lm.fit(house[predictors], house[outcome])\n",
    "\n",
    "print(f'Intercept: {house_lm.intercept_:.3f}')\n",
    "print('Coefficients:')\n",
    "for name, coef in zip(predictors, house_lm.coef_):\n",
    "    print(f' {name}: {coef}')"
   ]
  },
  {
   "cell_type": "markdown",
   "metadata": {},
   "source": [
    "### Assessing the Model with performance KPIs\n",
    "_Scikit-learn_ provides a number of metrics to determine the quality of a model. Here we use the `r2_score` and `RMSE`."
   ]
  },
  {
   "cell_type": "code",
   "execution_count": 21,
   "metadata": {},
   "outputs": [
    {
     "name": "stdout",
     "output_type": "stream",
     "text": [
      "RMSE: 261734\n",
      "r2: 0.5424\n",
      "RMSE_test: 259179\n",
      "r2_test: 0.5324\n"
     ]
    }
   ],
   "source": [
    "fitted = house_lm.predict(house[predictors])\n",
    "RMSE = np.sqrt(mean_squared_error(house[outcome], fitted))\n",
    "r2 = r2_score(house[outcome], fitted)\n",
    "print(f'RMSE: {RMSE:.0f}')\n",
    "print(f'r2: {r2:.4f}')\n",
    "\n",
    "fitted_test = house_lm.predict(house_test[predictors])\n",
    "RMSE_test = np.sqrt(mean_squared_error(house_test[outcome], fitted_test))\n",
    "r2_test = r2_score(house_test[outcome], fitted_test)\n",
    "print(f'RMSE_test: {RMSE_test:.0f}')\n",
    "print(f'r2_test: {r2_test:.4f}')"
   ]
  },
  {
   "cell_type": "markdown",
   "metadata": {},
   "source": [
    "## 1 - Multiple Linear Regression (statsmodels)"
   ]
  },
  {
   "cell_type": "markdown",
   "metadata": {},
   "source": [
    "While _scikit-learn_ provides a variety of different metrics, _statsmodels_ provides a more in-depth analysis of the linear regression model. This package has two different ways of specifying the model, one that is similar to _scikit-learn_ and one that allows specifying _R_-style formulas. Here we use the first approach. As _statsmodels_ doesn't add an intercept automaticaly, we need to add a constant column with value 1 to the predictors. We can use the _pandas_ method assign for this."
   ]
  },
  {
   "cell_type": "code",
   "execution_count": 23,
   "metadata": {},
   "outputs": [
    {
     "name": "stdout",
     "output_type": "stream",
     "text": [
      "                            OLS Regression Results                            \n",
      "==============================================================================\n",
      "Dep. Variable:           AdjSalePrice   R-squared:                       0.542\n",
      "Model:                            OLS   Adj. R-squared:                  0.542\n",
      "Method:                 Least Squares   F-statistic:                     4302.\n",
      "Date:                Thu, 11 Jun 2020   Prob (F-statistic):               0.00\n",
      "Time:                        21:00:50   Log-Likelihood:            -2.5216e+05\n",
      "No. Observations:               18149   AIC:                         5.043e+05\n",
      "Df Residuals:                   18143   BIC:                         5.044e+05\n",
      "Df Model:                           5                                         \n",
      "Covariance Type:            nonrobust                                         \n",
      "=================================================================================\n",
      "                    coef    std err          t      P>|t|      [0.025      0.975]\n",
      "---------------------------------------------------------------------------------\n",
      "SqFtTotLiving   227.1426      4.350     52.222      0.000     218.617     235.668\n",
      "SqFtLot          -0.0477      0.065     -0.730      0.465      -0.176       0.080\n",
      "Bathrooms     -1.902e+04   4041.308     -4.707      0.000   -2.69e+04   -1.11e+04\n",
      "Bedrooms      -4.581e+04   2751.114    -16.651      0.000   -5.12e+04   -4.04e+04\n",
      "BldgGrade      1.061e+05   2672.652     39.698      0.000    1.01e+05    1.11e+05\n",
      "const         -5.255e+05   1.74e+04    -30.154      0.000    -5.6e+05   -4.91e+05\n",
      "==============================================================================\n",
      "Omnibus:                    23856.813   Durbin-Watson:                   1.984\n",
      "Prob(Omnibus):                  0.000   Jarque-Bera (JB):         16842346.722\n",
      "Skew:                           6.920   Prob(JB):                         0.00\n",
      "Kurtosis:                     151.595   Cond. No.                     2.96e+05\n",
      "==============================================================================\n",
      "\n",
      "Warnings:\n",
      "[1] Standard Errors assume that the covariance matrix of the errors is correctly specified.\n",
      "[2] The condition number is large, 2.96e+05. This might indicate that there are\n",
      "strong multicollinearity or other numerical problems.\n"
     ]
    }
   ],
   "source": [
    "mlr_sm = sm.OLS(house[outcome], house[predictors].assign(const=1))\n",
    "results = mlr_sm.fit()\n",
    "print(results.summary())"
   ]
  },
  {
   "cell_type": "markdown",
   "metadata": {},
   "source": [
    "### Correlations between predictors"
   ]
  },
  {
   "cell_type": "code",
   "execution_count": 22,
   "metadata": {},
   "outputs": [
    {
     "name": "stdout",
     "output_type": "stream",
     "text": [
      "Correlation Matrix \n",
      "                SqFtTotLiving   SqFtLot  Bathrooms  Bedrooms  BldgGrade\n",
      "SqFtTotLiving       1.000000  0.194438   0.764795  0.596046   0.772365\n",
      "SqFtLot             0.194438  1.000000   0.107111  0.065361   0.143378\n",
      "Bathrooms           0.764795  0.107111   1.000000  0.537875   0.657983\n",
      "Bedrooms            0.596046  0.065361   0.537875  1.000000   0.365975\n",
      "BldgGrade           0.772365  0.143378   0.657983  0.365975   1.000000\n"
     ]
    },
    {
     "data": {
      "image/png": "[encoded data removed]",
      "text/plain": [
       "<Figure size 432x288 with 2 Axes>"
      ]
     },
     "metadata": {
      "needs_background": "light"
     },
     "output_type": "display_data"
    }
   ],
   "source": [
    "corr = house[predictors].corr()\n",
    "print(\"Correlation Matrix \\n {}\".format(corr))\n",
    "\n",
    "ax = sns.heatmap(\n",
    "    corr, \n",
    "    vmin=-1, vmax=1, center=0,\n",
    "    cmap=sns.diverging_palette(20, 220, n=200),\n",
    "    square=True\n",
    ")\n",
    "ax.set_xticklabels(\n",
    "    ax.get_xticklabels(),\n",
    "    rotation=45,\n",
    "    horizontalalignment='right'\n",
    ");"
   ]
  },
  {
   "cell_type": "markdown",
   "metadata": {},
   "source": [
    "## 2 - Model Selection and Stepwise Regression"
   ]
  },
  {
   "cell_type": "code",
   "execution_count": 24,
   "metadata": {},
   "outputs": [
    {
     "name": "stdout",
     "output_type": "stream",
     "text": [
      "       SqFtTotLiving  SqFtLot  Bathrooms  Bedrooms  BldgGrade   PropertyType  \\\n",
      "5300             820     8424       1.00         3          6  Single Family   \n",
      "12681            960     8100       2.00         3          7  Single Family   \n",
      "13033           2050     4080       1.75         3          8  Single Family   \n",
      "14012           1920    11804       2.75         5          8  Single Family   \n",
      "6692            1210     8742       1.00         3          7  Single Family   \n",
      "\n",
      "       NbrLivingUnits  SqFtFinBasement  YrBuilt  YrRenovated  NewConstruction  \n",
      "5300                1                0     1959            0            False  \n",
      "12681               1                0     1955            0            False  \n",
      "13033               1                0     1991            0            False  \n",
      "14012               1              270     1960            0            False  \n",
      "6692                1                0     1954            0            False  \n",
      "\n",
      " PropertyType List \n",
      "Single Family    16564\n",
      "Townhouse         1377\n",
      "Multiplex          208\n",
      "Name: PropertyType, dtype: int64\n",
      "\n",
      "Predictors after nominal varibale(s) treatment: (18149, 12) \n",
      "\n",
      "\n",
      "                            OLS Regression Results                            \n",
      "==============================================================================\n",
      "Dep. Variable:           AdjSalePrice   R-squared:                       0.597\n",
      "Model:                            OLS   Adj. R-squared:                  0.597\n",
      "Method:                 Least Squares   F-statistic:                     2237.\n",
      "Date:                Thu, 11 Jun 2020   Prob (F-statistic):               0.00\n",
      "Time:                        21:10:23   Log-Likelihood:            -2.5101e+05\n",
      "No. Observations:               18149   AIC:                         5.021e+05\n",
      "Df Residuals:                   18136   BIC:                         5.022e+05\n",
      "Df Model:                          12                                         \n",
      "Covariance Type:            nonrobust                                         \n",
      "==============================================================================================\n",
      "                                 coef    std err          t      P>|t|      [0.025      0.975]\n",
      "----------------------------------------------------------------------------------------------\n",
      "SqFtTotLiving                195.5150      4.713     41.488      0.000     186.278     204.752\n",
      "SqFtLot                        0.0811      0.062      1.311      0.190      -0.040       0.202\n",
      "Bathrooms                   4.151e+04   4243.073      9.783      0.000    3.32e+04    4.98e+04\n",
      "Bedrooms                    -5.05e+04   2649.699    -19.059      0.000   -5.57e+04   -4.53e+04\n",
      "BldgGrade                   1.388e+05   2722.077     51.009      0.000    1.34e+05    1.44e+05\n",
      "NbrLivingUnits              2.462e+04    1.9e+04      1.294      0.196   -1.27e+04    6.19e+04\n",
      "SqFtFinBasement                9.7173      5.160      1.883      0.060      -0.397      19.831\n",
      "YrBuilt                    -3555.7977     86.658    -41.033      0.000   -3725.655   -3385.940\n",
      "YrRenovated                    0.7959      4.346      0.183      0.855      -7.722       9.314\n",
      "NewConstruction            -2278.0403   6617.191     -0.344      0.731   -1.52e+04    1.07e+04\n",
      "PropertyType_Single Family  5.102e+04   2.88e+04      1.771      0.077   -5438.222    1.07e+05\n",
      "PropertyType_Townhouse      1.119e+05   2.99e+04      3.750      0.000    5.34e+04     1.7e+05\n",
      "const                       6.097e+06   1.73e+05     35.205      0.000    5.76e+06    6.44e+06\n",
      "==============================================================================\n",
      "Omnibus:                    24933.228   Durbin-Watson:                   1.974\n",
      "Prob(Omnibus):                  0.000   Jarque-Bera (JB):         22842613.666\n",
      "Skew:                           7.467   Prob(JB):                         0.00\n",
      "Kurtosis:                     176.158   Cond. No.                     3.11e+06\n",
      "==============================================================================\n",
      "\n",
      "Warnings:\n",
      "[1] Standard Errors assume that the covariance matrix of the errors is correctly specified.\n",
      "[2] The condition number is large, 3.11e+06. This might indicate that there are\n",
      "strong multicollinearity or other numerical problems.\n"
     ]
    }
   ],
   "source": [
    "predictors = ['SqFtTotLiving', 'SqFtLot', 'Bathrooms', 'Bedrooms',\n",
    "              'BldgGrade', 'PropertyType', 'NbrLivingUnits',\n",
    "              'SqFtFinBasement', 'YrBuilt', 'YrRenovated', \n",
    "              'NewConstruction']\n",
    "\n",
    "print(house[predictors].head())\n",
    "\n",
    "print(\"\\n PropertyType List \\n{}\".format(house['PropertyType'].value_counts(dropna=False)))\n",
    "\n",
    "X = pd.get_dummies(house[predictors], drop_first=True)\n",
    "X['NewConstruction'] = [1 if nc else 0 for nc in X['NewConstruction']]\n",
    "\n",
    "print(\"\\nPredictors after nominal varibale(s) treatment: {} \\n\\n\".format(X.shape))\n",
    "\n",
    "house_full = sm.OLS(house[outcome], X.assign(const=1))\n",
    "results = house_full.fit()\n",
    "print(results.summary())"
   ]
  },
  {
   "cell_type": "markdown",
   "metadata": {},
   "source": [
    "We can use the `stepwise_selection` method from the _dmba_ package."
   ]
  },
  {
   "cell_type": "code",
   "execution_count": 25,
   "metadata": {},
   "outputs": [
    {
     "name": "stdout",
     "output_type": "stream",
     "text": [
      "Variables: SqFtTotLiving, SqFtLot, Bathrooms, Bedrooms, BldgGrade, NbrLivingUnits, SqFtFinBasement, YrBuilt, YrRenovated, NewConstruction, PropertyType_Single Family, PropertyType_Townhouse\n",
      "Start: score=518519.13, constant\n",
      "Step: score=506450.10, add SqFtTotLiving\n",
      "Step: score=504672.60, add BldgGrade\n",
      "Step: score=502600.59, add YrBuilt\n",
      "Step: score=502257.77, add Bedrooms\n",
      "Step: score=502112.85, add Bathrooms\n",
      "Step: score=502053.37, add PropertyType_Townhouse\n",
      "Step: score=502051.76, add SqFtFinBasement\n",
      "Step: score=502051.76, unchanged None\n",
      "\n",
      "Intercept: 6178772.254\n",
      "Coefficients:\n",
      " SqFtTotLiving: 196.48595552469854\n",
      " BldgGrade: 138804.31057533738\n",
      " YrBuilt: -3558.546935270238\n",
      " Bedrooms: -50790.30196263888\n",
      " Bathrooms: 41290.917740694735\n",
      " PropertyType_Townhouse: 59881.67052978481\n",
      " SqFtFinBasement: 9.745907589097285\n"
     ]
    }
   ],
   "source": [
    "y = house[outcome]\n",
    "\n",
    "def train_model(variables):\n",
    "    if len(variables) == 0:\n",
    "        return None\n",
    "    model = LinearRegression()\n",
    "    model.fit(X[variables], y)\n",
    "    return model\n",
    "\n",
    "def score_model(model, variables):\n",
    "    if len(variables) == 0:\n",
    "        return AIC_score(y, [y.mean()] * len(y), model, df=1)\n",
    "    return AIC_score(y, model.predict(X[variables]), model)\n",
    "\n",
    "best_model, best_variables = stepwise_selection(X.columns, train_model, score_model, \n",
    "                                                verbose=True)\n",
    "\n",
    "print()\n",
    "print(f'Intercept: {best_model.intercept_:.3f}')\n",
    "print('Coefficients:')\n",
    "for name, coef in zip(best_variables, best_model.coef_):\n",
    "    print(f' {name}: {coef}')"
   ]
  },
  {
   "cell_type": "markdown",
   "metadata": {},
   "source": [
    "## 3 - Weighted regression\n",
    "For the house data recent sale price is more relavent for future prediction, old sale data is less reliable, therefore, we like to emphasis the recent sale data by apply more weight. We will use year the house sale to 2005 as weight.\n",
    "\n",
    "We can calculate the Year from the date column using either a list comprehension or the data frame's `apply` method."
   ]
  },
  {
   "cell_type": "code",
   "execution_count": 26,
   "metadata": {},
   "outputs": [
    {
     "name": "stdout",
     "output_type": "stream",
     "text": [
      "\n",
      "DocumentDate List \n",
      "2006-07-26    48\n",
      "2006-06-01    46\n",
      "2006-06-08    46\n",
      "2006-06-19    44\n",
      "2006-08-24    43\n",
      "              ..\n",
      "2011-07-16     1\n",
      "2007-06-16     1\n",
      "2014-03-13     1\n",
      "2014-03-20     1\n",
      "2006-11-19     1\n",
      "Name: DocumentDate, Length: 2469, dtype: int64\n"
     ]
    }
   ],
   "source": [
    "print(\"\\nDocumentDate List \\n{}\".format(house['DocumentDate'].value_counts(dropna=False)))"
   ]
  },
  {
   "cell_type": "code",
   "execution_count": 27,
   "metadata": {},
   "outputs": [
    {
     "name": "stderr",
     "output_type": "stream",
     "text": [
      "/Users/yibin/anaconda/lib/python3.6/site-packages/ipykernel_launcher.py:1: SettingWithCopyWarning: \n",
      "A value is trying to be set on a copy of a slice from a DataFrame.\n",
      "Try using .loc[row_indexer,col_indexer] = value instead\n",
      "\n",
      "See the caveats in the documentation: https://pandas.pydata.org/pandas-docs/stable/user_guide/indexing.html#returning-a-view-versus-a-copy\n",
      "  \"\"\"Entry point for launching an IPython kernel.\n",
      "/Users/yibin/anaconda/lib/python3.6/site-packages/ipykernel_launcher.py:2: SettingWithCopyWarning: \n",
      "A value is trying to be set on a copy of a slice from a DataFrame.\n",
      "Try using .loc[row_indexer,col_indexer] = value instead\n",
      "\n",
      "See the caveats in the documentation: https://pandas.pydata.org/pandas-docs/stable/user_guide/indexing.html#returning-a-view-versus-a-copy\n",
      "  \n",
      "/Users/yibin/anaconda/lib/python3.6/site-packages/ipykernel_launcher.py:3: SettingWithCopyWarning: \n",
      "A value is trying to be set on a copy of a slice from a DataFrame.\n",
      "Try using .loc[row_indexer,col_indexer] = value instead\n",
      "\n",
      "See the caveats in the documentation: https://pandas.pydata.org/pandas-docs/stable/user_guide/indexing.html#returning-a-view-versus-a-copy\n",
      "  This is separate from the ipykernel package so we can avoid doing imports until\n"
     ]
    }
   ],
   "source": [
    "house['Year'] = [int(date.split('-')[0]) for date in house.DocumentDate]  #list comprehension\n",
    "house['Year'] = house.DocumentDate.apply(lambda d: int(d.split('-')[0]))  # apply()\n",
    "house['Weight'] = house.Year - 2005"
   ]
  },
  {
   "cell_type": "code",
   "execution_count": 28,
   "metadata": {},
   "outputs": [
    {
     "data": {
      "text/html": [
       "<div>\n",
       "<style scoped>\n",
       "    .dataframe tbody tr th:only-of-type {\n",
       "        vertical-align: middle;\n",
       "    }\n",
       "\n",
       "    .dataframe tbody tr th {\n",
       "        vertical-align: top;\n",
       "    }\n",
       "\n",
       "    .dataframe thead th {\n",
       "        text-align: right;\n",
       "    }\n",
       "</style>\n",
       "<table border=\"1\" class=\"dataframe\">\n",
       "  <thead>\n",
       "    <tr style=\"text-align: right;\">\n",
       "      <th></th>\n",
       "      <th>predictor</th>\n",
       "      <th>house_lm</th>\n",
       "      <th>house_wt</th>\n",
       "    </tr>\n",
       "  </thead>\n",
       "  <tbody>\n",
       "    <tr>\n",
       "      <th>0</th>\n",
       "      <td>SqFtTotLiving</td>\n",
       "      <td>227.142625</td>\n",
       "      <td>244.009023</td>\n",
       "    </tr>\n",
       "    <tr>\n",
       "      <th>1</th>\n",
       "      <td>SqFtLot</td>\n",
       "      <td>-0.047747</td>\n",
       "      <td>-0.275870</td>\n",
       "    </tr>\n",
       "    <tr>\n",
       "      <th>2</th>\n",
       "      <td>Bathrooms</td>\n",
       "      <td>-19024.409515</td>\n",
       "      <td>-27194.594125</td>\n",
       "    </tr>\n",
       "    <tr>\n",
       "      <th>3</th>\n",
       "      <td>Bedrooms</td>\n",
       "      <td>-45807.658413</td>\n",
       "      <td>-52686.235249</td>\n",
       "    </tr>\n",
       "    <tr>\n",
       "      <th>4</th>\n",
       "      <td>BldgGrade</td>\n",
       "      <td>106099.736461</td>\n",
       "      <td>116905.612754</td>\n",
       "    </tr>\n",
       "    <tr>\n",
       "      <th>5</th>\n",
       "      <td>intercept</td>\n",
       "      <td>-525518.269179</td>\n",
       "      <td>-594454.152302</td>\n",
       "    </tr>\n",
       "  </tbody>\n",
       "</table>\n",
       "</div>"
      ],
      "text/plain": [
       "       predictor       house_lm       house_wt\n",
       "0  SqFtTotLiving     227.142625     244.009023\n",
       "1        SqFtLot      -0.047747      -0.275870\n",
       "2      Bathrooms  -19024.409515  -27194.594125\n",
       "3       Bedrooms  -45807.658413  -52686.235249\n",
       "4      BldgGrade  106099.736461  116905.612754\n",
       "5      intercept -525518.269179 -594454.152302"
      ]
     },
     "execution_count": 28,
     "metadata": {},
     "output_type": "execute_result"
    }
   ],
   "source": [
    "predictors = ['SqFtTotLiving', 'SqFtLot', 'Bathrooms', \n",
    "              'Bedrooms', 'BldgGrade']\n",
    "outcome = 'AdjSalePrice'\n",
    "\n",
    "house_wt = LinearRegression()\n",
    "house_wt.fit(house[predictors], house[outcome], sample_weight=house.Weight)\n",
    "pd.DataFrame({\n",
    "    'predictor': predictors,\n",
    "    'house_lm': house_lm.coef_,\n",
    "    'house_wt': house_wt.coef_,\n",
    "}).append({\n",
    "    'predictor': 'intercept', \n",
    "    'house_lm': house_lm.intercept_,\n",
    "    'house_wt': house_wt.intercept_,\n",
    "}, ignore_index=True)"
   ]
  },
  {
   "cell_type": "code",
   "execution_count": 29,
   "metadata": {},
   "outputs": [
    {
     "name": "stdout",
     "output_type": "stream",
     "text": [
      "       abs_residual_lm  abs_residual_wt  Year\n",
      "5300      54837.502895     75835.307404  2012\n",
      "12681     61013.738503     76940.643645  2006\n",
      "13033    240864.496256    224641.549378  2008\n",
      "14012    177490.560894    187149.608272  2011\n",
      "6692     111587.326343    115273.902482  2007\n",
      "\n",
      "\n",
      "Year   Abs_residual_lm    Abs_residual_wt\n",
      "2006 140301.41358480236 146818.89084935014\n",
      "2007 149690.02198768506 155264.09627123203\n",
      "2008 142848.33468595732 147401.07726008113\n",
      "2009 146480.20215901546 151323.71380213578\n",
      "2010 158546.4550668623 161823.9627388648\n",
      "2011 174105.2376369793 177296.55379437498\n",
      "2012 164171.50685921582 166094.64278194302\n",
      "2013 209999.093540516 212302.2104875012\n",
      "2014 193670.5095636271 195773.54060688117\n",
      "2015 172639.22850036158 169717.27428566746\n"
     ]
    },
    {
     "data": {
      "image/png": "[encoded data removed]",
      "text/plain": [
       "<Figure size 720x288 with 2 Axes>"
      ]
     },
     "metadata": {
      "needs_background": "light"
     },
     "output_type": "display_data"
    }
   ],
   "source": [
    "residuals = pd.DataFrame({\n",
    "    'abs_residual_lm': np.abs(house_lm.predict(house[predictors]) - house[outcome]),\n",
    "    'abs_residual_wt': np.abs(house_wt.predict(house[predictors]) - house[outcome]),\n",
    "    'Year': house['Year'],\n",
    "})\n",
    "print(residuals.head())\n",
    "axes = residuals.boxplot(['abs_residual_lm', 'abs_residual_wt'], by='Year', figsize=(10, 4))\n",
    "axes[0].set_ylim(0, 300000)\n",
    "\n",
    "print(\"\\n\\nYear   Abs_residual_lm    Abs_residual_wt\")\n",
    "for year, group in residuals.groupby('Year'):\n",
    "    print(year, np.mean(group['abs_residual_lm']), np.mean(group['abs_residual_wt']))"
   ]
  },
  {
   "cell_type": "markdown",
   "metadata": {},
   "source": [
    "Seems only help 2015 prediction reduce the residuale.If we have a recent holdout sample we can test the weight could help for furture prediction or not"
   ]
  },
  {
   "cell_type": "markdown",
   "metadata": {},
   "source": [
    "# 4 - Regularization"
   ]
  },
  {
   "cell_type": "code",
   "execution_count": 30,
   "metadata": {},
   "outputs": [
    {
     "name": "stdout",
     "output_type": "stream",
     "text": [
      "       SqFtTotLiving  SqFtLot  Bathrooms  Bedrooms  BldgGrade   PropertyType  \\\n",
      "5300             820     8424       1.00         3          6  Single Family   \n",
      "12681            960     8100       2.00         3          7  Single Family   \n",
      "13033           2050     4080       1.75         3          8  Single Family   \n",
      "14012           1920    11804       2.75         5          8  Single Family   \n",
      "6692            1210     8742       1.00         3          7  Single Family   \n",
      "\n",
      "       NbrLivingUnits  SqFtFinBasement  YrBuilt  YrRenovated  NewConstruction  \n",
      "5300                1                0     1959            0            False  \n",
      "12681               1                0     1955            0            False  \n",
      "13033               1                0     1991            0            False  \n",
      "14012               1              270     1960            0            False  \n",
      "6692                1                0     1954            0            False  \n",
      "\n",
      " PropertyType List \n",
      "Single Family    16564\n",
      "Townhouse         1377\n",
      "Multiplex          208\n",
      "Name: PropertyType, dtype: int64\n"
     ]
    }
   ],
   "source": [
    "predictors = ['SqFtTotLiving', 'SqFtLot', 'Bathrooms', 'Bedrooms',\n",
    "              'BldgGrade', 'PropertyType', 'NbrLivingUnits',\n",
    "              'SqFtFinBasement', 'YrBuilt', 'YrRenovated', \n",
    "              'NewConstruction']\n",
    "\n",
    "outcome = 'AdjSalePrice'\n",
    "\n",
    "print(house[predictors].head())\n",
    "\n",
    "print(\"\\n PropertyType List \\n{}\".format(house['PropertyType'].value_counts(dropna=False)))\n",
    "\n",
    "X_train = pd.get_dummies(house[predictors], drop_first=True)\n",
    "X_train['NewConstruction'] = [1 if nc else 0 for nc in X_train['NewConstruction']]\n",
    "y_train = house[outcome]\n",
    "\n",
    "X_test = pd.get_dummies(house_test[predictors], drop_first=True)\n",
    "X_test['NewConstruction'] = [1 if nc else 0 for nc in X_test['NewConstruction']]\n",
    "y_test = house_test[outcome]"
   ]
  },
  {
   "cell_type": "markdown",
   "metadata": {},
   "source": [
    "### Regular Multiple Regression"
   ]
  },
  {
   "cell_type": "code",
   "execution_count": 31,
   "metadata": {},
   "outputs": [
    {
     "data": {
      "text/plain": [
       "{'Intercept': 6097167.345,\n",
       " 'SqFtTotLiving': 195.515,\n",
       " 'SqFtLot': 0.081,\n",
       " 'Bathrooms': 41510.984,\n",
       " 'Bedrooms': -50499.827,\n",
       " 'BldgGrade': 138849.457,\n",
       " 'NbrLivingUnits': 24622.864,\n",
       " 'SqFtFinBasement': 9.717,\n",
       " 'YrBuilt': -3555.798,\n",
       " 'YrRenovated': 0.796,\n",
       " 'NewConstruction': -2278.04,\n",
       " 'PropertyType_Single Family': 51017.157}"
      ]
     },
     "execution_count": 31,
     "metadata": {},
     "output_type": "execute_result"
    }
   ],
   "source": [
    "house_lm = LinearRegression()\n",
    "house_lm.fit(X_train, y_train)\n",
    "\n",
    "mlr_coefs = dict(\n",
    "    zip(['Intercept'] + X_train.columns.tolist()[:-1], \n",
    "        np.round(np.concatenate((house_lm.intercept_, house_lm.coef_), \n",
    "                                axis=None), 3))\n",
    ")\n",
    "\n",
    "mlr_coefs"
   ]
  },
  {
   "cell_type": "code",
   "execution_count": 32,
   "metadata": {},
   "outputs": [
    {
     "name": "stdout",
     "output_type": "stream",
     "text": [
      "regular mlr MSE: 244299\n",
      "r2_test: 0.5845\n"
     ]
    }
   ],
   "source": [
    "fitted_test = house_lm.predict(X_test)\n",
    "MSE_test = np.sqrt(mean_squared_error(y_test, fitted_test))\n",
    "r2 = r2_score(y_test, fitted_test)\n",
    "print(f'regular mlr MSE: {MSE_test:.0f}')\n",
    "print(f'r2_test: {r2:.4f}')"
   ]
  },
  {
   "cell_type": "markdown",
   "metadata": {},
   "source": [
    "### L2 - Ridge regression (Parameter shrinkage)"
   ]
  },
  {
   "cell_type": "code",
   "execution_count": 33,
   "metadata": {},
   "outputs": [
    {
     "name": "stdout",
     "output_type": "stream",
     "text": [
      "Ridge Regression MAE: 135479.682\n",
      "Ridge Regression coefficients:\n"
     ]
    },
    {
     "data": {
      "text/plain": [
       "{'Intercept': 5983425.905,\n",
       " 'SqFtTotLiving': 191.452,\n",
       " 'SqFtLot': 0.091,\n",
       " 'Bathrooms': 42746.236,\n",
       " 'Bedrooms': -49179.085,\n",
       " 'BldgGrade': 138505.546,\n",
       " 'NbrLivingUnits': 16505.754,\n",
       " 'SqFtFinBasement': 12.46,\n",
       " 'YrBuilt': -3484.417,\n",
       " 'YrRenovated': 1.927,\n",
       " 'NewConstruction': -2369.944,\n",
       " 'PropertyType_Single Family': 35398.442}"
      ]
     },
     "execution_count": 33,
     "metadata": {},
     "output_type": "execute_result"
    }
   ],
   "source": [
    "ridge_cv = RidgeCV(normalize=True, alphas=np.logspace(-10, 1, 400))\n",
    "ridge_model = ridge_cv.fit(X_train, y_train)\n",
    "ridge_prediction = ridge_model.predict(X_test)\n",
    "ridge_mae = np.mean(np.abs(y_test - ridge_prediction))\n",
    "ridge_coefs = dict(\n",
    "    zip(['Intercept'] + X_train.columns.tolist()[:-1], \n",
    "        np.round(np.concatenate((ridge_model.intercept_, ridge_model.coef_), \n",
    "                                axis=None), 3))\n",
    ")\n",
    "\n",
    "print('Ridge Regression MAE: {}'.format(np.round(ridge_mae, 3)))\n",
    "print('Ridge Regression coefficients:')\n",
    "ridge_coefs"
   ]
  },
  {
   "cell_type": "markdown",
   "metadata": {},
   "source": [
    "### L1 - Lasso regression (Parameter sparsity)"
   ]
  },
  {
   "cell_type": "code",
   "execution_count": 34,
   "metadata": {},
   "outputs": [
    {
     "name": "stdout",
     "output_type": "stream",
     "text": [
      "LASSO MAE: 135522.604\n",
      "LASSO coefficients:\n"
     ]
    },
    {
     "data": {
      "text/plain": [
       "{'Intercept': 6055517.602,\n",
       " 'SqFtTotLiving': 194.216,\n",
       " 'SqFtLot': 0.064,\n",
       " 'Bathrooms': 39776.616,\n",
       " 'Bedrooms': -48619.885,\n",
       " 'BldgGrade': 138660.216,\n",
       " 'NbrLivingUnits': -0.0,\n",
       " 'SqFtFinBasement': 9.912,\n",
       " 'YrBuilt': -3495.387,\n",
       " 'YrRenovated': 0.533,\n",
       " 'NewConstruction': -0.0,\n",
       " 'PropertyType_Single Family': 0.0}"
      ]
     },
     "execution_count": 34,
     "metadata": {},
     "output_type": "execute_result"
    }
   ],
   "source": [
    "lasso_cv = LassoCV(normalize=True, alphas=np.logspace(-10, 1, 400))\n",
    "lasso_model = lasso_cv.fit(X_train, y_train)\n",
    "lasso_prediction = lasso_model.predict(X_test)\n",
    "lasso_mae = np.mean(np.abs(y_test - lasso_prediction))\n",
    "lasso_coefs = dict(\n",
    "    zip(['Intercept'] + X_train.columns.tolist()[:-1], \n",
    "        np.round(np.concatenate((lasso_model.intercept_, lasso_model.coef_), axis=None), 3))\n",
    ")\n",
    "\n",
    "print('LASSO MAE: {}'.format(np.round(lasso_mae, 3)))\n",
    "print('LASSO coefficients:')\n",
    "lasso_coefs"
   ]
  },
  {
   "cell_type": "markdown",
   "metadata": {},
   "source": [
    "# Home Work"
   ]
  },
  {
   "cell_type": "markdown",
   "metadata": {},
   "source": [
    "1. Compare the three model fits and draw conclusion \n",
    "from the comparision of the three model fits regarding there coefficent difference"
   ]
  },
  {
   "cell_type": "markdown",
   "metadata": {},
   "source": [
    "2. Show the three model performance on both train and test"
   ]
  },
  {
   "cell_type": "code",
   "execution_count": null,
   "metadata": {},
   "outputs": [],
   "source": []
  }
 ],
 "metadata": {
  "kernelspec": {
   "display_name": "Python 3",
   "language": "python",
   "name": "python3"
  },
  "language_info": {
   "codemirror_mode": {
    "name": "ipython",
    "version": 3
   },
   "file_extension": ".py",
   "mimetype": "text/x-python",
   "name": "python",
   "nbconvert_exporter": "python",
   "pygments_lexer": "ipython3",
   "version": "3.6.10"
  }
 },
 "nbformat": 4,
 "nbformat_minor": 2
}
